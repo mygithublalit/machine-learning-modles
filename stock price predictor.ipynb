{
 "cells": [
  {
   "cell_type": "code",
   "execution_count": 1,
   "id": "7ea314e3",
   "metadata": {},
   "outputs": [],
   "source": [
    "# program uses an artificial recurrent neural network called long short term memory(LSTM) to predict closing stock price of corporation using the past 60 day stock price\n",
    "import math\n",
    "import numpy as np\n",
    "import pandas as pd\n",
    "import pandas_datareader as web\n",
    "import matplotlib.pyplot as plt\n"
   ]
  },
  {
   "cell_type": "code",
   "execution_count": 2,
   "id": "d63832a3",
   "metadata": {},
   "outputs": [],
   "source": [
    "from keras.models import Sequential\n",
    "from keras.layers import Dense,LSTM\n",
    "from sklearn.preprocessing import MinMaxScaler"
   ]
  },
  {
   "cell_type": "code",
   "execution_count": 3,
   "id": "9b68c9ea",
   "metadata": {},
   "outputs": [
    {
     "data": {
      "text/html": [
       "<div>\n",
       "<style scoped>\n",
       "    .dataframe tbody tr th:only-of-type {\n",
       "        vertical-align: middle;\n",
       "    }\n",
       "\n",
       "    .dataframe tbody tr th {\n",
       "        vertical-align: top;\n",
       "    }\n",
       "\n",
       "    .dataframe thead th {\n",
       "        text-align: right;\n",
       "    }\n",
       "</style>\n",
       "<table border=\"1\" class=\"dataframe\">\n",
       "  <thead>\n",
       "    <tr style=\"text-align: right;\">\n",
       "      <th></th>\n",
       "      <th>High</th>\n",
       "      <th>Low</th>\n",
       "      <th>Open</th>\n",
       "      <th>Close</th>\n",
       "      <th>Volume</th>\n",
       "      <th>Adj Close</th>\n",
       "    </tr>\n",
       "    <tr>\n",
       "      <th>Date</th>\n",
       "      <th></th>\n",
       "      <th></th>\n",
       "      <th></th>\n",
       "      <th></th>\n",
       "      <th></th>\n",
       "      <th></th>\n",
       "    </tr>\n",
       "  </thead>\n",
       "  <tbody>\n",
       "    <tr>\n",
       "      <th>2012-01-03</th>\n",
       "      <td>14.732143</td>\n",
       "      <td>14.607143</td>\n",
       "      <td>14.621429</td>\n",
       "      <td>14.686786</td>\n",
       "      <td>302220800.0</td>\n",
       "      <td>12.610313</td>\n",
       "    </tr>\n",
       "    <tr>\n",
       "      <th>2012-01-04</th>\n",
       "      <td>14.810000</td>\n",
       "      <td>14.617143</td>\n",
       "      <td>14.642857</td>\n",
       "      <td>14.765714</td>\n",
       "      <td>260022000.0</td>\n",
       "      <td>12.678082</td>\n",
       "    </tr>\n",
       "    <tr>\n",
       "      <th>2012-01-05</th>\n",
       "      <td>14.948214</td>\n",
       "      <td>14.738214</td>\n",
       "      <td>14.819643</td>\n",
       "      <td>14.929643</td>\n",
       "      <td>271269600.0</td>\n",
       "      <td>12.818836</td>\n",
       "    </tr>\n",
       "    <tr>\n",
       "      <th>2012-01-06</th>\n",
       "      <td>15.098214</td>\n",
       "      <td>14.972143</td>\n",
       "      <td>14.991786</td>\n",
       "      <td>15.085714</td>\n",
       "      <td>318292800.0</td>\n",
       "      <td>12.952843</td>\n",
       "    </tr>\n",
       "    <tr>\n",
       "      <th>2012-01-09</th>\n",
       "      <td>15.276786</td>\n",
       "      <td>15.048214</td>\n",
       "      <td>15.196429</td>\n",
       "      <td>15.061786</td>\n",
       "      <td>394024400.0</td>\n",
       "      <td>12.932296</td>\n",
       "    </tr>\n",
       "    <tr>\n",
       "      <th>...</th>\n",
       "      <td>...</td>\n",
       "      <td>...</td>\n",
       "      <td>...</td>\n",
       "      <td>...</td>\n",
       "      <td>...</td>\n",
       "      <td>...</td>\n",
       "    </tr>\n",
       "    <tr>\n",
       "      <th>2021-10-15</th>\n",
       "      <td>144.899994</td>\n",
       "      <td>143.509995</td>\n",
       "      <td>143.770004</td>\n",
       "      <td>144.839996</td>\n",
       "      <td>67885200.0</td>\n",
       "      <td>144.839996</td>\n",
       "    </tr>\n",
       "    <tr>\n",
       "      <th>2021-10-18</th>\n",
       "      <td>146.839996</td>\n",
       "      <td>143.160004</td>\n",
       "      <td>143.449997</td>\n",
       "      <td>146.550003</td>\n",
       "      <td>85589200.0</td>\n",
       "      <td>146.550003</td>\n",
       "    </tr>\n",
       "    <tr>\n",
       "      <th>2021-10-19</th>\n",
       "      <td>149.169998</td>\n",
       "      <td>146.550003</td>\n",
       "      <td>147.009995</td>\n",
       "      <td>148.759995</td>\n",
       "      <td>76378900.0</td>\n",
       "      <td>148.759995</td>\n",
       "    </tr>\n",
       "    <tr>\n",
       "      <th>2021-10-20</th>\n",
       "      <td>149.750000</td>\n",
       "      <td>148.119995</td>\n",
       "      <td>148.699997</td>\n",
       "      <td>149.259995</td>\n",
       "      <td>58418800.0</td>\n",
       "      <td>149.259995</td>\n",
       "    </tr>\n",
       "    <tr>\n",
       "      <th>2021-10-21</th>\n",
       "      <td>149.639999</td>\n",
       "      <td>147.869995</td>\n",
       "      <td>148.809998</td>\n",
       "      <td>149.479996</td>\n",
       "      <td>61421000.0</td>\n",
       "      <td>149.479996</td>\n",
       "    </tr>\n",
       "  </tbody>\n",
       "</table>\n",
       "<p>2468 rows × 6 columns</p>\n",
       "</div>"
      ],
      "text/plain": [
       "                  High         Low        Open       Close       Volume  \\\n",
       "Date                                                                      \n",
       "2012-01-03   14.732143   14.607143   14.621429   14.686786  302220800.0   \n",
       "2012-01-04   14.810000   14.617143   14.642857   14.765714  260022000.0   \n",
       "2012-01-05   14.948214   14.738214   14.819643   14.929643  271269600.0   \n",
       "2012-01-06   15.098214   14.972143   14.991786   15.085714  318292800.0   \n",
       "2012-01-09   15.276786   15.048214   15.196429   15.061786  394024400.0   \n",
       "...                ...         ...         ...         ...          ...   \n",
       "2021-10-15  144.899994  143.509995  143.770004  144.839996   67885200.0   \n",
       "2021-10-18  146.839996  143.160004  143.449997  146.550003   85589200.0   \n",
       "2021-10-19  149.169998  146.550003  147.009995  148.759995   76378900.0   \n",
       "2021-10-20  149.750000  148.119995  148.699997  149.259995   58418800.0   \n",
       "2021-10-21  149.639999  147.869995  148.809998  149.479996   61421000.0   \n",
       "\n",
       "             Adj Close  \n",
       "Date                    \n",
       "2012-01-03   12.610313  \n",
       "2012-01-04   12.678082  \n",
       "2012-01-05   12.818836  \n",
       "2012-01-06   12.952843  \n",
       "2012-01-09   12.932296  \n",
       "...                ...  \n",
       "2021-10-15  144.839996  \n",
       "2021-10-18  146.550003  \n",
       "2021-10-19  148.759995  \n",
       "2021-10-20  149.259995  \n",
       "2021-10-21  149.479996  \n",
       "\n",
       "[2468 rows x 6 columns]"
      ]
     },
     "execution_count": 3,
     "metadata": {},
     "output_type": "execute_result"
    }
   ],
   "source": [
    "#get the stock quote\n",
    "df = web.DataReader('AAPL', data_source='yahoo', start='2012-01-01', end='2021-10-21')\n",
    "\n",
    "# show the data\n",
    "df"
   ]
  },
  {
   "cell_type": "code",
   "execution_count": 4,
   "id": "8e203144",
   "metadata": {},
   "outputs": [
    {
     "data": {
      "text/plain": [
       "(2468, 6)"
      ]
     },
     "execution_count": 4,
     "metadata": {},
     "output_type": "execute_result"
    }
   ],
   "source": [
    "# get the no. of rows and columns\n",
    "df.shape"
   ]
  },
  {
   "cell_type": "code",
   "execution_count": 5,
   "id": "8fcb45c3",
   "metadata": {},
   "outputs": [
    {
     "data": {
      "image/png": "[encoded data removed]",
      "text/plain": [
       "<Figure size 1152x576 with 1 Axes>"
      ]
     },
     "metadata": {},
     "output_type": "display_data"
    }
   ],
   "source": [
    "# visualize the closing price history\n",
    "plt.style.use('fivethirtyeight')\n",
    "plt.figure(figsize=(16,8))\n",
    "plt.title('close price history')\n",
    "plt.plot(df['Close'])\n",
    "plt.xlabel('Date', fontsize=18)\n",
    "plt.ylabel('closing price USD ($)', fontsize=18)\n",
    "plt.show()"
   ]
  },
  {
   "cell_type": "code",
   "execution_count": 10,
   "id": "433370ee",
   "metadata": {},
   "outputs": [
    {
     "data": {
      "text/plain": [
       "array([[ 14.6867857 ],\n",
       "       [ 14.76571369],\n",
       "       [ 14.92964268],\n",
       "       ...,\n",
       "       [148.75999451],\n",
       "       [149.25999451],\n",
       "       [149.47999573]])"
      ]
     },
     "execution_count": 10,
     "metadata": {},
     "output_type": "execute_result"
    }
   ],
   "source": [
    "# create a new dataframe with only the close column\n",
    "data = df.filter(['Close'])\n",
    "\n",
    "# get the number of rows to train the model on\n",
    "training_data_len = math.ceil(len(dataset)*0.8)\n",
    "\n",
    "training_data_len\n",
    "\n",
    "# convert the dataframe to a numpy array\n",
    "dataset = data.values\n",
    "dataset"
   ]
  },
  {
   "cell_type": "code",
   "execution_count": 7,
   "id": "ba199d1a",
   "metadata": {},
   "outputs": [
    {
     "data": {
      "text/plain": [
       "array([[0.00517915],\n",
       "       [0.00573209],\n",
       "       [0.00688052],\n",
       "       ...,\n",
       "       [0.94444536],\n",
       "       [0.94794817],\n",
       "       [0.94948942]])"
      ]
     },
     "execution_count": 7,
     "metadata": {},
     "output_type": "execute_result"
    }
   ],
   "source": [
    "# scale the data\n",
    "scaler = MinMaxScaler(feature_range=(0,1))\n",
    "scaled_data = scaler.fit_transform(dataset)\n",
    "\n",
    "scaled_data"
   ]
  },
  {
   "cell_type": "code",
   "execution_count": 8,
   "id": "15fac9ab",
   "metadata": {},
   "outputs": [],
   "source": [
    "# create the training data set\n",
    "# create the scaled training data set\n",
    "train_data = scaled_data[0:training_data_len]\n",
    "\n",
    "# split the data into x_train and y_train data sets\n",
    "x_train = []\n",
    "y_train = []"
   ]
  },
  {
   "cell_type": "code",
   "execution_count": 11,
   "id": "3aede72a",
   "metadata": {},
   "outputs": [
    {
     "name": "stdout",
     "output_type": "stream",
     "text": [
      "[array([0.00517915, 0.00573209, 0.00688052, 0.0079739 , 0.00780626,\n",
      "       0.00818406, 0.00801143, 0.00772119, 0.00732587, 0.00854936,\n",
      "       0.00965275, 0.00931247, 0.00744847, 0.0092274 , 0.007476  ,\n",
      "       0.01404377, 0.01353586, 0.0141989 , 0.01563254, 0.01650074,\n",
      "       0.01642818, 0.01616047, 0.01730138, 0.01837474, 0.01959072,\n",
      "       0.0215548 , 0.02568061, 0.02574316, 0.02804001, 0.02975638,\n",
      "       0.02680652, 0.02794242, 0.02791991, 0.03110496, 0.03065209,\n",
      "       0.03149026, 0.03299647, 0.03383465, 0.03624909, 0.03800799,\n",
      "       0.0385159 , 0.03869355, 0.03568614, 0.03496055, 0.03506814,\n",
      "       0.03789542, 0.03869105, 0.04039993, 0.04442815, 0.04980247,\n",
      "       0.04879666, 0.04879916, 0.05268478, 0.05390076, 0.05303505,\n",
      "       0.05224443, 0.05142127, 0.05415595, 0.05603247, 0.0568181 ])]\n",
      "[0.05487653421186173]\n",
      "\n"
     ]
    }
   ],
   "source": [
    "for i in range(60, len(train_data)):\n",
    "    x_train.append(train_data[i-60:i, 0])\n",
    "    y_train.append(train_data[i,0])\n",
    "    if i==60:\n",
    "        print(x_train)\n",
    "        print(y_train)\n",
    "        print()"
   ]
  },
  {
   "cell_type": "code",
   "execution_count": 13,
   "id": "f83b5b5a",
   "metadata": {},
   "outputs": [],
   "source": [
    "# convert the x_train and y_train to numpy array\n",
    "x_train  , y_train = np.array(x_train), np.array(y_train)"
   ]
  },
  {
   "cell_type": "code",
   "execution_count": 14,
   "id": "45334778",
   "metadata": {},
   "outputs": [
    {
     "data": {
      "text/plain": [
       "(1915, 60)"
      ]
     },
     "execution_count": 14,
     "metadata": {},
     "output_type": "execute_result"
    }
   ],
   "source": [
    "# reshape the data beacause lstm axpect three dimentional data \n",
    "x_train.shape"
   ]
  },
  {
   "cell_type": "code",
   "execution_count": 15,
   "id": "92e47128",
   "metadata": {},
   "outputs": [
    {
     "data": {
      "text/plain": [
       "(1915, 60, 1)"
      ]
     },
     "execution_count": 15,
     "metadata": {},
     "output_type": "execute_result"
    }
   ],
   "source": [
    "x_train = np.reshape(x_train, (x_train.shape[0], x_train.shape[1], 1))\n",
    "x_train.shape"
   ]
  },
  {
   "cell_type": "code",
   "execution_count": 16,
   "id": "e1db2ce7",
   "metadata": {},
   "outputs": [],
   "source": [
    "# build the lSTM model\n",
    "model = Sequential()\n",
    "model.add(LSTM(50, return_sequences=True, input_shape=(x_train.shape[1],1)))\n",
    "model.add(LSTM(50, return_sequences=False))\n",
    "model.add(Dense(25))\n",
    "model.add(Dense(1))"
   ]
  },
  {
   "cell_type": "code",
   "execution_count": 17,
   "id": "105731d9",
   "metadata": {},
   "outputs": [],
   "source": [
    "# compile the model \n",
    "model.compile(optimizer='adam', loss='mean_squared_error')"
   ]
  },
  {
   "cell_type": "code",
   "execution_count": 18,
   "id": "ef8227fc",
   "metadata": {},
   "outputs": [
    {
     "name": "stdout",
     "output_type": "stream",
     "text": [
      "1915/1915 [==============================] - 64s 31ms/step - loss: 2.2896e-04\n"
     ]
    },
    {
     "data": {
      "text/plain": [
       "<keras.callbacks.History at 0x239ebe7aa90>"
      ]
     },
     "execution_count": 18,
     "metadata": {},
     "output_type": "execute_result"
    }
   ],
   "source": [
    "# train the model\n",
    "model.fit(x_train, y_train, batch_size=1, epochs=1)"
   ]
  },
  {
   "cell_type": "code",
   "execution_count": 19,
   "id": "50dc226d",
   "metadata": {},
   "outputs": [],
   "source": [
    "# create the testing data set\n",
    "# create the new array containing scaled values from index 1916 to 2468\n",
    "test_data = scaled_data[training_data_len-60: , : ]\n",
    "\n",
    "# create the data sets x_test and y_test\n",
    "x_test = []\n",
    "y_test = dataset[training_data_len: , : ]\n",
    "for i in range(60, len(test_data)):\n",
    "    x_test.append(test_data[i-60 : i, 0])\n",
    "    "
   ]
  },
  {
   "cell_type": "code",
   "execution_count": 20,
   "id": "0cd02808",
   "metadata": {},
   "outputs": [],
   "source": [
    "# convert the data to a numpy array\n",
    "x_test = np.array(x_test)\n"
   ]
  },
  {
   "cell_type": "code",
   "execution_count": 21,
   "id": "c2174a6d",
   "metadata": {},
   "outputs": [],
   "source": [
    "# reshape the data\n",
    "x_test = np.reshape(x_test, (x_test.shape[0], x_test.shape[1], 1))"
   ]
  },
  {
   "cell_type": "code",
   "execution_count": 22,
   "id": "b7915c4b",
   "metadata": {},
   "outputs": [],
   "source": [
    "# get the models predicted price values\n",
    "predictions = model.predict(x_test)\n",
    "predictions = scaler.inverse_transform(predictions)"
   ]
  },
  {
   "cell_type": "code",
   "execution_count": 24,
   "id": "a7183ca9",
   "metadata": {},
   "outputs": [
    {
     "data": {
      "text/plain": [
       "5.2656830329198625"
      ]
     },
     "execution_count": 24,
     "metadata": {},
     "output_type": "execute_result"
    }
   ],
   "source": [
    "# get the root mean squared error (RMSE)\n",
    "rmse = np.sqrt(np.mean(predictions-y_test)**2)\n",
    "rmse"
   ]
  },
  {
   "cell_type": "code",
   "execution_count": 25,
   "id": "1344fcac",
   "metadata": {},
   "outputs": [
    {
     "name": "stderr",
     "output_type": "stream",
     "text": [
      "C:\\Users\\lalit\\AppData\\Local\\Temp/ipykernel_16912/1690353125.py:4: SettingWithCopyWarning: \n",
      "A value is trying to be set on a copy of a slice from a DataFrame.\n",
      "Try using .loc[row_indexer,col_indexer] = value instead\n",
      "\n",
      "See the caveats in the documentation: https://pandas.pydata.org/pandas-docs/stable/user_guide/indexing.html#returning-a-view-versus-a-copy\n",
      "  valid['Predictions'] = predictions\n"
     ]
    },
    {
     "data": {
      "image/png": "[encoded data removed]",
      "text/plain": [
       "<Figure size 1152x576 with 1 Axes>"
      ]
     },
     "metadata": {},
     "output_type": "display_data"
    }
   ],
   "source": [
    "# plot the data\n",
    "train = data[ : training_data_len]\n",
    "valid = data[training_data_len:]\n",
    "valid['Predictions'] = predictions\n",
    "\n",
    "# visualize the data\n",
    "plt.figure(figsize=(16,8))\n",
    "plt.title('Model')\n",
    "plt.xlabel('Date', fontsize=18)\n",
    "plt.ylabel('Closing prize USD ($)', fontsize=18)\n",
    "plt.plot(train['Close'])\n",
    "plt.plot(valid[['Close', 'Predictions']])\n",
    "plt.legend(['Train', 'Val', 'Predictions'], loc='lower right')\n",
    "plt.show()"
   ]
  },
  {
   "cell_type": "code",
   "execution_count": 28,
   "id": "74bfed8b",
   "metadata": {},
   "outputs": [
    {
     "data": {
      "text/html": [
       "<div>\n",
       "<style scoped>\n",
       "    .dataframe tbody tr th:only-of-type {\n",
       "        vertical-align: middle;\n",
       "    }\n",
       "\n",
       "    .dataframe tbody tr th {\n",
       "        vertical-align: top;\n",
       "    }\n",
       "\n",
       "    .dataframe thead th {\n",
       "        text-align: right;\n",
       "    }\n",
       "</style>\n",
       "<table border=\"1\" class=\"dataframe\">\n",
       "  <thead>\n",
       "    <tr style=\"text-align: right;\">\n",
       "      <th></th>\n",
       "      <th>Close</th>\n",
       "      <th>Predictions</th>\n",
       "    </tr>\n",
       "    <tr>\n",
       "      <th>Date</th>\n",
       "      <th></th>\n",
       "      <th></th>\n",
       "    </tr>\n",
       "  </thead>\n",
       "  <tbody>\n",
       "    <tr>\n",
       "      <th>2019-11-07</th>\n",
       "      <td>64.857498</td>\n",
       "      <td>62.240635</td>\n",
       "    </tr>\n",
       "    <tr>\n",
       "      <th>2019-11-08</th>\n",
       "      <td>65.035004</td>\n",
       "      <td>62.649818</td>\n",
       "    </tr>\n",
       "    <tr>\n",
       "      <th>2019-11-11</th>\n",
       "      <td>65.550003</td>\n",
       "      <td>63.023338</td>\n",
       "    </tr>\n",
       "    <tr>\n",
       "      <th>2019-11-12</th>\n",
       "      <td>65.489998</td>\n",
       "      <td>63.391384</td>\n",
       "    </tr>\n",
       "    <tr>\n",
       "      <th>2019-11-13</th>\n",
       "      <td>66.117500</td>\n",
       "      <td>63.708611</td>\n",
       "    </tr>\n",
       "    <tr>\n",
       "      <th>...</th>\n",
       "      <td>...</td>\n",
       "      <td>...</td>\n",
       "    </tr>\n",
       "    <tr>\n",
       "      <th>2021-10-15</th>\n",
       "      <td>144.839996</td>\n",
       "      <td>134.365433</td>\n",
       "    </tr>\n",
       "    <tr>\n",
       "      <th>2021-10-18</th>\n",
       "      <td>146.550003</td>\n",
       "      <td>134.726852</td>\n",
       "    </tr>\n",
       "    <tr>\n",
       "      <th>2021-10-19</th>\n",
       "      <td>148.759995</td>\n",
       "      <td>135.337082</td>\n",
       "    </tr>\n",
       "    <tr>\n",
       "      <th>2021-10-20</th>\n",
       "      <td>149.259995</td>\n",
       "      <td>136.234573</td>\n",
       "    </tr>\n",
       "    <tr>\n",
       "      <th>2021-10-21</th>\n",
       "      <td>149.479996</td>\n",
       "      <td>137.212540</td>\n",
       "    </tr>\n",
       "  </tbody>\n",
       "</table>\n",
       "<p>493 rows × 2 columns</p>\n",
       "</div>"
      ],
      "text/plain": [
       "                 Close  Predictions\n",
       "Date                               \n",
       "2019-11-07   64.857498    62.240635\n",
       "2019-11-08   65.035004    62.649818\n",
       "2019-11-11   65.550003    63.023338\n",
       "2019-11-12   65.489998    63.391384\n",
       "2019-11-13   66.117500    63.708611\n",
       "...                ...          ...\n",
       "2021-10-15  144.839996   134.365433\n",
       "2021-10-18  146.550003   134.726852\n",
       "2021-10-19  148.759995   135.337082\n",
       "2021-10-20  149.259995   136.234573\n",
       "2021-10-21  149.479996   137.212540\n",
       "\n",
       "[493 rows x 2 columns]"
      ]
     },
     "execution_count": 28,
     "metadata": {},
     "output_type": "execute_result"
    }
   ],
   "source": [
    "# show the valid and predicted prices\n",
    "valid"
   ]
  },
  {
   "cell_type": "code",
   "execution_count": 27,
   "id": "662a4207",
   "metadata": {},
   "outputs": [
    {
     "name": "stdout",
     "output_type": "stream",
     "text": [
      "[[139.81194]]\n"
     ]
    }
   ],
   "source": [
    "# get the quate \n",
    "apple_quate = web.DataReader('AAPL', data_source='yahoo', start='2012-01-01', end='2021-10-26')\n",
    "\n",
    "# create a new dataframe\n",
    "new_df = apple_quate.filter(['Close'])\n",
    "\n",
    "# get the last 60 day closing price values and conert the dataframe to an array\n",
    "last_60_days = new_df[-60:].values\n",
    "\n",
    "# scale the data to be values between 0 and 1\n",
    "last_60_days_scaled = scaler.transform(last_60_days)\n",
    "\n",
    "# create an empty list\n",
    "x_test = []\n",
    "\n",
    "# append the past 60 days\n",
    "x_test.append(last_60_days_scaled)\n",
    "\n",
    "# convert the x_test data set to a numpy array\n",
    "x_test = np.array(x_test)\n",
    "\n",
    "#reshape the data\n",
    "x_test = np.reshape(x_test, (x_test.shape[0], x_test.shape[1], 1))\n",
    " \n",
    "# get the predicted scaled price\n",
    "pred_price = model.predict(x_test)\n",
    "\n",
    "# undo the scaling\n",
    "pred_price = scaler.inverse_transform(pred_price)\n",
    "print(pred_price)"
   ]
  },
  {
   "cell_type": "code",
   "execution_count": 34,
   "id": "5bce119a",
   "metadata": {},
   "outputs": [
    {
     "name": "stdout",
     "output_type": "stream",
     "text": [
      "Date\n",
      "2021-10-26    149.320007\n",
      "2021-10-27    148.850006\n",
      "Name: Close, dtype: float64\n"
     ]
    }
   ],
   "source": [
    "# get the quote\n",
    "apple_quate2 = web.DataReader('AAPL', data_source='yahoo', start='2021-10-27', end='2021-10-27')\n",
    "print(apple_quate2['Close'])"
   ]
  },
  {
   "cell_type": "code",
   "execution_count": 31,
   "id": "25580688",
   "metadata": {},
   "outputs": [
    {
     "data": {
      "text/html": [
       "<div>\n",
       "<style scoped>\n",
       "    .dataframe tbody tr th:only-of-type {\n",
       "        vertical-align: middle;\n",
       "    }\n",
       "\n",
       "    .dataframe tbody tr th {\n",
       "        vertical-align: top;\n",
       "    }\n",
       "\n",
       "    .dataframe thead th {\n",
       "        text-align: right;\n",
       "    }\n",
       "</style>\n",
       "<table border=\"1\" class=\"dataframe\">\n",
       "  <thead>\n",
       "    <tr style=\"text-align: right;\">\n",
       "      <th></th>\n",
       "      <th>High</th>\n",
       "      <th>Low</th>\n",
       "      <th>Open</th>\n",
       "      <th>Close</th>\n",
       "      <th>Volume</th>\n",
       "      <th>Adj Close</th>\n",
       "    </tr>\n",
       "    <tr>\n",
       "      <th>Date</th>\n",
       "      <th></th>\n",
       "      <th></th>\n",
       "      <th></th>\n",
       "      <th></th>\n",
       "      <th></th>\n",
       "      <th></th>\n",
       "    </tr>\n",
       "  </thead>\n",
       "  <tbody>\n",
       "    <tr>\n",
       "      <th>2021-10-26</th>\n",
       "      <td>150.839996</td>\n",
       "      <td>149.009995</td>\n",
       "      <td>149.330002</td>\n",
       "      <td>149.320007</td>\n",
       "      <td>60893400</td>\n",
       "      <td>149.320007</td>\n",
       "    </tr>\n",
       "    <tr>\n",
       "      <th>2021-10-27</th>\n",
       "      <td>149.729996</td>\n",
       "      <td>148.490005</td>\n",
       "      <td>149.360001</td>\n",
       "      <td>148.850006</td>\n",
       "      <td>51361252</td>\n",
       "      <td>148.850006</td>\n",
       "    </tr>\n",
       "  </tbody>\n",
       "</table>\n",
       "</div>"
      ],
      "text/plain": [
       "                  High         Low        Open       Close    Volume  \\\n",
       "Date                                                                   \n",
       "2021-10-26  150.839996  149.009995  149.330002  149.320007  60893400   \n",
       "2021-10-27  149.729996  148.490005  149.360001  148.850006  51361252   \n",
       "\n",
       "             Adj Close  \n",
       "Date                    \n",
       "2021-10-26  149.320007  \n",
       "2021-10-27  148.850006  "
      ]
     },
     "execution_count": 31,
     "metadata": {},
     "output_type": "execute_result"
    }
   ],
   "source": [
    "apple_quate2"
   ]
  },
  {
   "cell_type": "code",
   "execution_count": null,
   "metadata": {},
   "outputs": [],
   "source": []
  }
 ],
 "metadata": {
  "interpreter": {
   "hash": "63fd5069d213b44bf678585dea6b12cceca9941eaf7f819626cde1f2670de90d"
  },
  "kernelspec": {
   "display_name": "Python 3.9.5 64-bit",
   "name": "python3"
  },
  "language_info": {
   "codemirror_mode": {
    "name": "ipython",
    "version": 3
   },
   "file_extension": ".py",
   "mimetype": "text/x-python",
   "name": "python",
   "nbconvert_exporter": "python",
   "pygments_lexer": "ipython3",
   "version": "3.9.5"
  }
 },
 "nbformat": 4,
 "nbformat_minor": 5
}
